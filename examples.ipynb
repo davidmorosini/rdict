{
 "cells": [
  {
   "cell_type": "code",
   "execution_count": 1,
   "id": "10b87db3-be04-41c4-807e-fbe3733c37dc",
   "metadata": {},
   "outputs": [],
   "source": [
    "from rdict import Rdict, array_keys_to_path, path_to_array_keys"
   ]
  },
  {
   "cell_type": "code",
   "execution_count": 2,
   "id": "1e9f0c23-66f6-4c63-8dcf-1d64b3e975cb",
   "metadata": {},
   "outputs": [],
   "source": [
    "example_dict = {\n",
    "    \"simple_key\": \"simple_value\",\n",
    "    \"array\": [1, 2, 3, 4, 5],\n",
    "    \"array_complex\": [{\"foo\": [\"bar\", [1, 2, 3], {\"a\": 1, \"b\": 2}]}],\n",
    "}"
   ]
  },
  {
   "cell_type": "code",
   "execution_count": 3,
   "id": "b592c28b-7371-49e2-bdd1-8232a9e9c966",
   "metadata": {},
   "outputs": [],
   "source": [
    "rd = Rdict(example_dict, sep=\"/\", use_copy=True)"
   ]
  },
  {
   "cell_type": "code",
   "execution_count": 4,
   "id": "bc063217-c785-4ecd-bd5b-dff61e48c100",
   "metadata": {},
   "outputs": [
    {
     "data": {
      "text/plain": [
       "[{'foo': ['bar', [1, 2, 3], {'a': 1, 'b': 2}]}]"
      ]
     },
     "execution_count": 4,
     "metadata": {},
     "output_type": "execute_result"
    }
   ],
   "source": [
    "rd.get(\"array_complex/\", default=78, raise_error=False)"
   ]
  },
  {
   "cell_type": "code",
   "execution_count": null,
   "id": "f686cd9e-056b-4551-aa8e-4dab3902dd78",
   "metadata": {},
   "outputs": [],
   "source": []
  },
  {
   "cell_type": "code",
   "execution_count": 9,
   "id": "d6fa7252-462a-4118-9d6d-cd1238a02bf6",
   "metadata": {},
   "outputs": [
    {
     "data": {
      "text/plain": [
       "['array_complex', 3, '4', 'a']"
      ]
     },
     "execution_count": 9,
     "metadata": {},
     "output_type": "execute_result"
    }
   ],
   "source": [
    "path_to_array_keys(\"array_complex/////3///'4'/'a'\")"
   ]
  },
  {
   "cell_type": "code",
   "execution_count": null,
   "id": "574f10fc-da5c-4062-aa57-69580d4e10d1",
   "metadata": {},
   "outputs": [],
   "source": []
  }
 ],
 "metadata": {
  "kernelspec": {
   "display_name": "Python 3 (ipykernel)",
   "language": "python",
   "name": "python3"
  },
  "language_info": {
   "codemirror_mode": {
    "name": "ipython",
    "version": 3
   },
   "file_extension": ".py",
   "mimetype": "text/x-python",
   "name": "python",
   "nbconvert_exporter": "python",
   "pygments_lexer": "ipython3",
   "version": "3.8.12"
  }
 },
 "nbformat": 4,
 "nbformat_minor": 5
}
