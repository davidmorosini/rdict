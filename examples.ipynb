{
 "cells": [
  {
   "cell_type": "code",
   "execution_count": 1,
   "id": "10b87db3-be04-41c4-807e-fbe3733c37dc",
   "metadata": {},
   "outputs": [],
   "source": [
    "from rdict import Rdict, array_keys_to_path, path_to_array_keys\n",
    "from rdict.recursive import dict_recursive_set"
   ]
  },
  {
   "cell_type": "code",
   "execution_count": 2,
   "id": "1e9f0c23-66f6-4c63-8dcf-1d64b3e975cb",
   "metadata": {},
   "outputs": [],
   "source": [
    "example_dict = {\n",
    "    \"simple_key\": \"simple_value\",\n",
    "    \"array\": [1, 2, 3, 4, 5],\n",
    "    \"array_complex\": [{\"foo\": [\"bar\", [1, 2, 3], {\"a\": 1, \"b\": 2}]}],\n",
    "}"
   ]
  },
  {
   "cell_type": "code",
   "execution_count": 3,
   "id": "b592c28b-7371-49e2-bdd1-8232a9e9c966",
   "metadata": {},
   "outputs": [],
   "source": [
    "rd = Rdict(example_dict, sep=\"/\", use_copy=True)"
   ]
  },
  {
   "cell_type": "code",
   "execution_count": 4,
   "id": "bc063217-c785-4ecd-bd5b-dff61e48c100",
   "metadata": {},
   "outputs": [
    {
     "data": {
      "text/plain": [
       "2"
      ]
     },
     "execution_count": 4,
     "metadata": {},
     "output_type": "execute_result"
    }
   ],
   "source": [
    "rd.get(\"array_complex/0/foo/2/b\", default=78, raise_error=False)"
   ]
  },
  {
   "cell_type": "code",
   "execution_count": 5,
   "id": "d6fa7252-462a-4118-9d6d-cd1238a02bf6",
   "metadata": {},
   "outputs": [
    {
     "data": {
      "text/plain": [
       "['array_complex', 3, '4', 'a']"
      ]
     },
     "execution_count": 5,
     "metadata": {},
     "output_type": "execute_result"
    }
   ],
   "source": [
    "path_to_array_keys(\"/array_complex/////3///'4'/'a'\")"
   ]
  },
  {
   "cell_type": "code",
   "execution_count": 6,
   "id": "574f10fc-da5c-4062-aa57-69580d4e10d1",
   "metadata": {},
   "outputs": [
    {
     "data": {
      "text/plain": [
       "{'simple_key': 'simple_value',\n",
       " 'array': [1, 2, 3, 4, 5],\n",
       " 'array_complex': [{'foo': ['bar', [1, 2, 3], {'a': 1, 'b': 2}]}],\n",
       " 'a': [[{'4': 2}]]}"
      ]
     },
     "execution_count": 6,
     "metadata": {},
     "output_type": "execute_result"
    }
   ],
   "source": [
    "rd.set(\"a/3/5/'4'/\", 2)"
   ]
  },
  {
   "cell_type": "code",
   "execution_count": 7,
   "id": "f04073c8-f883-4406-8ce4-16c8f0e597df",
   "metadata": {},
   "outputs": [
    {
     "data": {
      "text/plain": [
       "{'simple_key': 'simple_value',\n",
       " 'array': [1, 2, 3, 4, 5],\n",
       " 'array_complex': [{'foo': ['bar', [1, 2, 3], {'a': 1, 'b': 2}]}],\n",
       " 'a': [[{'4': 2}], [{'a': 1}]]}"
      ]
     },
     "execution_count": 7,
     "metadata": {},
     "output_type": "execute_result"
    }
   ],
   "source": [
    "rd.set(\"a/3/5/a/\", 1)"
   ]
  },
  {
   "cell_type": "code",
   "execution_count": 11,
   "id": "a8204e05-cf09-4724-9526-c81249a65434",
   "metadata": {},
   "outputs": [
    {
     "data": {
      "text/plain": [
       "['/0/foo/1/1', '/0/foo/2/b']"
      ]
     },
     "execution_count": 11,
     "metadata": {},
     "output_type": "execute_result"
    }
   ],
   "source": [
    "rd.search(2, False, base_path=\"array_complex\")"
   ]
  },
  {
   "cell_type": "code",
   "execution_count": 12,
   "id": "5b9c1493-cebe-4155-86f9-fdb23519ec49",
   "metadata": {},
   "outputs": [
    {
     "data": {
      "text/plain": [
       "['/array_complex/0/foo/2/a', '/a/1/0/a']"
      ]
     },
     "execution_count": 12,
     "metadata": {},
     "output_type": "execute_result"
    }
   ],
   "source": [
    "rd.search_pair(\"a\", 1)"
   ]
  },
  {
   "cell_type": "code",
   "execution_count": 13,
   "id": "ef613315-2822-4442-9a30-5c8555b08252",
   "metadata": {},
   "outputs": [
    {
     "data": {
      "text/plain": [
       "['/0/a']"
      ]
     },
     "execution_count": 13,
     "metadata": {},
     "output_type": "execute_result"
    }
   ],
   "source": [
    "rd.search_pair(\"a\", 1, base_path=\"a/1\")"
   ]
  },
  {
   "cell_type": "code",
   "execution_count": 18,
   "id": "0f302e51-6a17-4700-898c-2d53c3ea804b",
   "metadata": {},
   "outputs": [
    {
     "data": {
      "text/plain": [
       "False"
      ]
     },
     "execution_count": 18,
     "metadata": {},
     "output_type": "execute_result"
    }
   ],
   "source": [
    "rd.contains(\"foo\", \"value\")"
   ]
  },
  {
   "cell_type": "code",
   "execution_count": 19,
   "id": "8e42df01-5578-42ac-a225-c75d6e7eb362",
   "metadata": {},
   "outputs": [
    {
     "data": {
      "text/plain": [
       "True"
      ]
     },
     "execution_count": 19,
     "metadata": {},
     "output_type": "execute_result"
    }
   ],
   "source": [
    "rd.contains(\"foo\", \"key\")"
   ]
  },
  {
   "cell_type": "code",
   "execution_count": 20,
   "id": "9c181148-2e45-446d-b4fa-1c71675e6d8d",
   "metadata": {},
   "outputs": [
    {
     "data": {
      "text/plain": [
       "True"
      ]
     },
     "execution_count": 20,
     "metadata": {},
     "output_type": "execute_result"
    }
   ],
   "source": [
    "rd.contains(\"foo\", \"any\")"
   ]
  },
  {
   "cell_type": "code",
   "execution_count": 21,
   "id": "4e548fd3-18b1-4400-ae8c-6a9ba21d15bc",
   "metadata": {},
   "outputs": [
    {
     "data": {
      "text/plain": [
       "False"
      ]
     },
     "execution_count": 21,
     "metadata": {},
     "output_type": "execute_result"
    }
   ],
   "source": [
    "rd.contains(\"foooooo\", \"any\")"
   ]
  },
  {
   "cell_type": "code",
   "execution_count": 22,
   "id": "06caa657-6022-4a18-9bcb-101fd27b07df",
   "metadata": {},
   "outputs": [
    {
     "data": {
      "text/plain": [
       "{'simple_key': 'simple_value',\n",
       " 'array': [1, 2, 3, 4, 5],\n",
       " 'array_complex': [{'foo': ['bar', [1, 2, 3], {'a': 1, 'b': 2}]}],\n",
       " 'a': [[{'4': 2}], [{'a': 1}]]}"
      ]
     },
     "execution_count": 22,
     "metadata": {},
     "output_type": "execute_result"
    }
   ],
   "source": [
    "rd.copy()"
   ]
  },
  {
   "cell_type": "code",
   "execution_count": 23,
   "id": "3e849659-53af-421c-9e34-86387fbb7d72",
   "metadata": {},
   "outputs": [
    {
     "data": {
      "text/plain": [
       "{'simple_key': 'simple_value',\n",
       " 'array': [1, 2, 3, 4, 5],\n",
       " 'array_complex': [{'foo': ['bar', [1, 2, 3], {'a': 1, 'b': 2}]}],\n",
       " 'a': [[], [{'a': 1}]]}"
      ]
     },
     "execution_count": 23,
     "metadata": {},
     "output_type": "execute_result"
    }
   ],
   "source": [
    "rd.delete(\"a/0/0/\")"
   ]
  },
  {
   "cell_type": "code",
   "execution_count": 24,
   "id": "69fc2410-cf88-4680-8728-af8a99f5dd01",
   "metadata": {},
   "outputs": [
    {
     "data": {
      "text/plain": [
       "{'simple_key': 'simple_value',\n",
       " 'array': [1, 2, 3, 4, 5],\n",
       " 'array_complex': [{'foo': ['bar', [1, 2, 3], {'a': 1, 'b': 2}]}]}"
      ]
     },
     "execution_count": 24,
     "metadata": {},
     "output_type": "execute_result"
    }
   ],
   "source": [
    "example_dict"
   ]
  },
  {
   "cell_type": "code",
   "execution_count": null,
   "id": "24907e10-79f1-4f97-8098-7e494c93b904",
   "metadata": {},
   "outputs": [],
   "source": []
  },
  {
   "cell_type": "code",
   "execution_count": null,
   "id": "4a4bafd4-93a1-4812-ba1e-c7e8977e2f77",
   "metadata": {},
   "outputs": [],
   "source": []
  }
 ],
 "metadata": {
  "kernelspec": {
   "display_name": "Python 3 (ipykernel)",
   "language": "python",
   "name": "python3"
  },
  "language_info": {
   "codemirror_mode": {
    "name": "ipython",
    "version": 3
   },
   "file_extension": ".py",
   "mimetype": "text/x-python",
   "name": "python",
   "nbconvert_exporter": "python",
   "pygments_lexer": "ipython3",
   "version": "3.8.12"
  }
 },
 "nbformat": 4,
 "nbformat_minor": 5
}
